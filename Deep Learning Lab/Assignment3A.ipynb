{
 "cells": [
  {
   "cell_type": "code",
   "execution_count": 1,
   "id": "e424cdf4",
   "metadata": {
    "scrolled": false
   },
   "outputs": [
    {
     "name": "stdout",
     "output_type": "stream",
     "text": [
      "Requirement already satisfied: tensorflow in c:\\users\\denzil\\appdata\\local\\programs\\python\\python310\\lib\\site-packages (2.10.0)\n",
      "Requirement already satisfied: typing-extensions>=3.6.6 in c:\\users\\denzil\\appdata\\local\\programs\\python\\python310\\lib\\site-packages (from tensorflow) (4.4.0)\n",
      "Requirement already satisfied: absl-py>=1.0.0 in c:\\users\\denzil\\appdata\\local\\programs\\python\\python310\\lib\\site-packages (from tensorflow) (1.3.0)\n",
      "Requirement already satisfied: google-pasta>=0.1.1 in c:\\users\\denzil\\appdata\\local\\programs\\python\\python310\\lib\\site-packages (from tensorflow) (0.2.0)\n",
      "Requirement already satisfied: h5py>=2.9.0 in c:\\users\\denzil\\appdata\\local\\programs\\python\\python310\\lib\\site-packages (from tensorflow) (3.7.0)\n",
      "Requirement already satisfied: tensorflow-io-gcs-filesystem>=0.23.1 in c:\\users\\denzil\\appdata\\local\\programs\\python\\python310\\lib\\site-packages (from tensorflow) (0.27.0)\n",
      "Requirement already satisfied: packaging in c:\\users\\denzil\\appdata\\local\\programs\\python\\python310\\lib\\site-packages (from tensorflow) (21.3)\n",
      "Requirement already satisfied: numpy>=1.20 in c:\\users\\denzil\\appdata\\local\\programs\\python\\python310\\lib\\site-packages (from tensorflow) (1.23.4)\n",
      "Requirement already satisfied: libclang>=13.0.0 in c:\\users\\denzil\\appdata\\local\\programs\\python\\python310\\lib\\site-packages (from tensorflow) (14.0.6)\n",
      "Requirement already satisfied: grpcio<2.0,>=1.24.3 in c:\\users\\denzil\\appdata\\local\\programs\\python\\python310\\lib\\site-packages (from tensorflow) (1.50.0)\n",
      "Requirement already satisfied: termcolor>=1.1.0 in c:\\users\\denzil\\appdata\\local\\programs\\python\\python310\\lib\\site-packages (from tensorflow) (2.1.0)\n",
      "Requirement already satisfied: keras<2.11,>=2.10.0 in c:\\users\\denzil\\appdata\\local\\programs\\python\\python310\\lib\\site-packages (from tensorflow) (2.10.0)\n",
      "Requirement already satisfied: astunparse>=1.6.0 in c:\\users\\denzil\\appdata\\local\\programs\\python\\python310\\lib\\site-packages (from tensorflow) (1.6.3)\n",
      "Requirement already satisfied: protobuf<3.20,>=3.9.2 in c:\\users\\denzil\\appdata\\local\\programs\\python\\python310\\lib\\site-packages (from tensorflow) (3.19.6)\n",
      "Requirement already satisfied: opt-einsum>=2.3.2 in c:\\users\\denzil\\appdata\\local\\programs\\python\\python310\\lib\\site-packages (from tensorflow) (3.3.0)\n",
      "Requirement already satisfied: setuptools in c:\\users\\denzil\\appdata\\local\\programs\\python\\python310\\lib\\site-packages (from tensorflow) (63.2.0)\n",
      "Requirement already satisfied: tensorboard<2.11,>=2.10 in c:\\users\\denzil\\appdata\\local\\programs\\python\\python310\\lib\\site-packages (from tensorflow) (2.10.1)\n",
      "Requirement already satisfied: tensorflow-estimator<2.11,>=2.10.0 in c:\\users\\denzil\\appdata\\local\\programs\\python\\python310\\lib\\site-packages (from tensorflow) (2.10.0)\n",
      "Requirement already satisfied: wrapt>=1.11.0 in c:\\users\\denzil\\appdata\\local\\programs\\python\\python310\\lib\\site-packages (from tensorflow) (1.14.1)\n",
      "Requirement already satisfied: six>=1.12.0 in c:\\users\\denzil\\appdata\\local\\programs\\python\\python310\\lib\\site-packages (from tensorflow) (1.16.0)\n",
      "Requirement already satisfied: gast<=0.4.0,>=0.2.1 in c:\\users\\denzil\\appdata\\local\\programs\\python\\python310\\lib\\site-packages (from tensorflow) (0.4.0)\n",
      "Requirement already satisfied: flatbuffers>=2.0 in c:\\users\\denzil\\appdata\\local\\programs\\python\\python310\\lib\\site-packages (from tensorflow) (22.10.26)\n",
      "Requirement already satisfied: keras-preprocessing>=1.1.1 in c:\\users\\denzil\\appdata\\local\\programs\\python\\python310\\lib\\site-packages (from tensorflow) (1.1.2)\n",
      "Requirement already satisfied: wheel<1.0,>=0.23.0 in c:\\users\\denzil\\appdata\\local\\programs\\python\\python310\\lib\\site-packages (from astunparse>=1.6.0->tensorflow) (0.37.1)\n",
      "Requirement already satisfied: tensorboard-data-server<0.7.0,>=0.6.0 in c:\\users\\denzil\\appdata\\local\\programs\\python\\python310\\lib\\site-packages (from tensorboard<2.11,>=2.10->tensorflow) (0.6.1)\n",
      "Requirement already satisfied: google-auth<3,>=1.6.3 in c:\\users\\denzil\\appdata\\local\\programs\\python\\python310\\lib\\site-packages (from tensorboard<2.11,>=2.10->tensorflow) (2.14.0)\n",
      "Requirement already satisfied: tensorboard-plugin-wit>=1.6.0 in c:\\users\\denzil\\appdata\\local\\programs\\python\\python310\\lib\\site-packages (from tensorboard<2.11,>=2.10->tensorflow) (1.8.1)\n",
      "Requirement already satisfied: werkzeug>=1.0.1 in c:\\users\\denzil\\appdata\\local\\programs\\python\\python310\\lib\\site-packages (from tensorboard<2.11,>=2.10->tensorflow) (2.2.2)\n",
      "Requirement already satisfied: google-auth-oauthlib<0.5,>=0.4.1 in c:\\users\\denzil\\appdata\\local\\programs\\python\\python310\\lib\\site-packages (from tensorboard<2.11,>=2.10->tensorflow) (0.4.6)\n",
      "Requirement already satisfied: requests<3,>=2.21.0 in c:\\users\\denzil\\appdata\\local\\programs\\python\\python310\\lib\\site-packages (from tensorboard<2.11,>=2.10->tensorflow) (2.28.1)\n",
      "Requirement already satisfied: markdown>=2.6.8 in c:\\users\\denzil\\appdata\\local\\programs\\python\\python310\\lib\\site-packages (from tensorboard<2.11,>=2.10->tensorflow) (3.4.1)\n",
      "Requirement already satisfied: pyparsing!=3.0.5,>=2.0.2 in c:\\users\\denzil\\appdata\\local\\programs\\python\\python310\\lib\\site-packages (from packaging->tensorflow) (3.0.9)\n",
      "Requirement already satisfied: pyasn1-modules>=0.2.1 in c:\\users\\denzil\\appdata\\local\\programs\\python\\python310\\lib\\site-packages (from google-auth<3,>=1.6.3->tensorboard<2.11,>=2.10->tensorflow) (0.2.8)\n",
      "Requirement already satisfied: cachetools<6.0,>=2.0.0 in c:\\users\\denzil\\appdata\\local\\programs\\python\\python310\\lib\\site-packages (from google-auth<3,>=1.6.3->tensorboard<2.11,>=2.10->tensorflow) (5.2.0)\n",
      "Requirement already satisfied: rsa<5,>=3.1.4 in c:\\users\\denzil\\appdata\\local\\programs\\python\\python310\\lib\\site-packages (from google-auth<3,>=1.6.3->tensorboard<2.11,>=2.10->tensorflow) (4.9)\n",
      "Requirement already satisfied: requests-oauthlib>=0.7.0 in c:\\users\\denzil\\appdata\\local\\programs\\python\\python310\\lib\\site-packages (from google-auth-oauthlib<0.5,>=0.4.1->tensorboard<2.11,>=2.10->tensorflow) (1.3.1)\n",
      "Requirement already satisfied: charset-normalizer<3,>=2 in c:\\users\\denzil\\appdata\\local\\programs\\python\\python310\\lib\\site-packages (from requests<3,>=2.21.0->tensorboard<2.11,>=2.10->tensorflow) (2.1.1)\n",
      "Requirement already satisfied: certifi>=2017.4.17 in c:\\users\\denzil\\appdata\\local\\programs\\python\\python310\\lib\\site-packages (from requests<3,>=2.21.0->tensorboard<2.11,>=2.10->tensorflow) (2022.9.24)\n",
      "Requirement already satisfied: urllib3<1.27,>=1.21.1 in c:\\users\\denzil\\appdata\\local\\programs\\python\\python310\\lib\\site-packages (from requests<3,>=2.21.0->tensorboard<2.11,>=2.10->tensorflow) (1.26.12)\n",
      "Requirement already satisfied: idna<4,>=2.5 in c:\\users\\denzil\\appdata\\local\\programs\\python\\python310\\lib\\site-packages (from requests<3,>=2.21.0->tensorboard<2.11,>=2.10->tensorflow) (3.4)\n",
      "Requirement already satisfied: MarkupSafe>=2.1.1 in c:\\users\\denzil\\appdata\\local\\programs\\python\\python310\\lib\\site-packages (from werkzeug>=1.0.1->tensorboard<2.11,>=2.10->tensorflow) (2.1.1)\n",
      "Requirement already satisfied: pyasn1<0.5.0,>=0.4.6 in c:\\users\\denzil\\appdata\\local\\programs\\python\\python310\\lib\\site-packages (from pyasn1-modules>=0.2.1->google-auth<3,>=1.6.3->tensorboard<2.11,>=2.10->tensorflow) (0.4.8)\n",
      "Requirement already satisfied: oauthlib>=3.0.0 in c:\\users\\denzil\\appdata\\local\\programs\\python\\python310\\lib\\site-packages (from requests-oauthlib>=0.7.0->google-auth-oauthlib<0.5,>=0.4.1->tensorboard<2.11,>=2.10->tensorflow) (3.2.2)\n",
      "Requirement already satisfied: keras.models in c:\\users\\denzil\\appdata\\local\\programs\\python\\python310\\lib\\site-packages (0.0.7)\n",
      "Requirement already satisfied: spacy in c:\\users\\denzil\\appdata\\local\\programs\\python\\python310\\lib\\site-packages (from keras.models) (3.4.2)\n",
      "Requirement already satisfied: opencv-python in c:\\users\\denzil\\appdata\\local\\programs\\python\\python310\\lib\\site-packages (from keras.models) (4.6.0.66)\n",
      "Requirement already satisfied: pathlib in c:\\users\\denzil\\appdata\\local\\programs\\python\\python310\\lib\\site-packages (from keras.models) (1.0.1)\n",
      "Requirement already satisfied: numpy in c:\\users\\denzil\\appdata\\local\\programs\\python\\python310\\lib\\site-packages (from keras.models) (1.23.4)\n",
      "Requirement already satisfied: Pillow in c:\\users\\denzil\\appdata\\local\\programs\\python\\python310\\lib\\site-packages (from keras.models) (9.3.0)\n",
      "Requirement already satisfied: keras in c:\\users\\denzil\\appdata\\local\\programs\\python\\python310\\lib\\site-packages (from keras.models) (2.10.0)\n",
      "Requirement already satisfied: srsly<3.0.0,>=2.4.3 in c:\\users\\denzil\\appdata\\local\\programs\\python\\python310\\lib\\site-packages (from spacy->keras.models) (2.4.5)\n",
      "Requirement already satisfied: typer<0.5.0,>=0.3.0 in c:\\users\\denzil\\appdata\\local\\programs\\python\\python310\\lib\\site-packages (from spacy->keras.models) (0.4.2)\n",
      "Requirement already satisfied: langcodes<4.0.0,>=3.2.0 in c:\\users\\denzil\\appdata\\local\\programs\\python\\python310\\lib\\site-packages (from spacy->keras.models) (3.3.0)\n",
      "Requirement already satisfied: murmurhash<1.1.0,>=0.28.0 in c:\\users\\denzil\\appdata\\local\\programs\\python\\python310\\lib\\site-packages (from spacy->keras.models) (1.0.9)\n",
      "Requirement already satisfied: spacy-legacy<3.1.0,>=3.0.10 in c:\\users\\denzil\\appdata\\local\\programs\\python\\python310\\lib\\site-packages (from spacy->keras.models) (3.0.10)\n",
      "Requirement already satisfied: jinja2 in c:\\users\\denzil\\appdata\\local\\programs\\python\\python310\\lib\\site-packages (from spacy->keras.models) (3.1.2)\n",
      "Requirement already satisfied: pydantic!=1.8,!=1.8.1,<1.11.0,>=1.7.4 in c:\\users\\denzil\\appdata\\local\\programs\\python\\python310\\lib\\site-packages (from spacy->keras.models) (1.10.2)\n",
      "Requirement already satisfied: catalogue<2.1.0,>=2.0.6 in c:\\users\\denzil\\appdata\\local\\programs\\python\\python310\\lib\\site-packages (from spacy->keras.models) (2.0.8)\n",
      "Requirement already satisfied: tqdm<5.0.0,>=4.38.0 in c:\\users\\denzil\\appdata\\local\\programs\\python\\python310\\lib\\site-packages (from spacy->keras.models) (4.64.1)\n",
      "Requirement already satisfied: packaging>=20.0 in c:\\users\\denzil\\appdata\\local\\programs\\python\\python310\\lib\\site-packages (from spacy->keras.models) (21.3)\n",
      "Requirement already satisfied: wasabi<1.1.0,>=0.9.1 in c:\\users\\denzil\\appdata\\local\\programs\\python\\python310\\lib\\site-packages (from spacy->keras.models) (0.10.1)\n",
      "Requirement already satisfied: preshed<3.1.0,>=3.0.2 in c:\\users\\denzil\\appdata\\local\\programs\\python\\python310\\lib\\site-packages (from spacy->keras.models) (3.0.8)\n",
      "Requirement already satisfied: setuptools in c:\\users\\denzil\\appdata\\local\\programs\\python\\python310\\lib\\site-packages (from spacy->keras.models) (63.2.0)\n",
      "Requirement already satisfied: spacy-loggers<2.0.0,>=1.0.0 in c:\\users\\denzil\\appdata\\local\\programs\\python\\python310\\lib\\site-packages (from spacy->keras.models) (1.0.3)\n",
      "Requirement already satisfied: thinc<8.2.0,>=8.1.0 in c:\\users\\denzil\\appdata\\local\\programs\\python\\python310\\lib\\site-packages (from spacy->keras.models) (8.1.5)\n",
      "Requirement already satisfied: pathy>=0.3.5 in c:\\users\\denzil\\appdata\\local\\programs\\python\\python310\\lib\\site-packages (from spacy->keras.models) (0.6.2)\n",
      "Requirement already satisfied: requests<3.0.0,>=2.13.0 in c:\\users\\denzil\\appdata\\local\\programs\\python\\python310\\lib\\site-packages (from spacy->keras.models) (2.28.1)\n",
      "Requirement already satisfied: cymem<2.1.0,>=2.0.2 in c:\\users\\denzil\\appdata\\local\\programs\\python\\python310\\lib\\site-packages (from spacy->keras.models) (2.0.7)\n",
      "Requirement already satisfied: pyparsing!=3.0.5,>=2.0.2 in c:\\users\\denzil\\appdata\\local\\programs\\python\\python310\\lib\\site-packages (from packaging>=20.0->spacy->keras.models) (3.0.9)\n",
      "Requirement already satisfied: smart-open<6.0.0,>=5.2.1 in c:\\users\\denzil\\appdata\\local\\programs\\python\\python310\\lib\\site-packages (from pathy>=0.3.5->spacy->keras.models) (5.2.1)\n",
      "Requirement already satisfied: typing-extensions>=4.1.0 in c:\\users\\denzil\\appdata\\local\\programs\\python\\python310\\lib\\site-packages (from pydantic!=1.8,!=1.8.1,<1.11.0,>=1.7.4->spacy->keras.models) (4.4.0)\n",
      "Requirement already satisfied: certifi>=2017.4.17 in c:\\users\\denzil\\appdata\\local\\programs\\python\\python310\\lib\\site-packages (from requests<3.0.0,>=2.13.0->spacy->keras.models) (2022.9.24)\n",
      "Requirement already satisfied: idna<4,>=2.5 in c:\\users\\denzil\\appdata\\local\\programs\\python\\python310\\lib\\site-packages (from requests<3.0.0,>=2.13.0->spacy->keras.models) (3.4)\n",
      "Requirement already satisfied: charset-normalizer<3,>=2 in c:\\users\\denzil\\appdata\\local\\programs\\python\\python310\\lib\\site-packages (from requests<3.0.0,>=2.13.0->spacy->keras.models) (2.1.1)\n",
      "Requirement already satisfied: urllib3<1.27,>=1.21.1 in c:\\users\\denzil\\appdata\\local\\programs\\python\\python310\\lib\\site-packages (from requests<3.0.0,>=2.13.0->spacy->keras.models) (1.26.12)\n",
      "Requirement already satisfied: blis<0.8.0,>=0.7.8 in c:\\users\\denzil\\appdata\\local\\programs\\python\\python310\\lib\\site-packages (from thinc<8.2.0,>=8.1.0->spacy->keras.models) (0.7.9)\n",
      "Requirement already satisfied: confection<1.0.0,>=0.0.1 in c:\\users\\denzil\\appdata\\local\\programs\\python\\python310\\lib\\site-packages (from thinc<8.2.0,>=8.1.0->spacy->keras.models) (0.0.3)\n",
      "Requirement already satisfied: colorama in c:\\users\\denzil\\appdata\\local\\programs\\python\\python310\\lib\\site-packages (from tqdm<5.0.0,>=4.38.0->spacy->keras.models) (0.4.6)\n",
      "Requirement already satisfied: click<9.0.0,>=7.1.1 in c:\\users\\denzil\\appdata\\local\\programs\\python\\python310\\lib\\site-packages (from typer<0.5.0,>=0.3.0->spacy->keras.models) (8.1.3)\n",
      "Requirement already satisfied: MarkupSafe>=2.0 in c:\\users\\denzil\\appdata\\local\\programs\\python\\python310\\lib\\site-packages (from jinja2->spacy->keras.models) (2.1.1)\n"
     ]
    },
    {
     "name": "stdout",
     "output_type": "stream",
     "text": [
      "Requirement already satisfied: keras.datasets in c:\\users\\denzil\\appdata\\local\\programs\\python\\python310\\lib\\site-packages (0.1.0)\n"
     ]
    }
   ],
   "source": [
    "!pip install tensorflow \n",
    "!pip install keras.models\n",
    "!pip install keras.datasets"
   ]
  },
  {
   "cell_type": "markdown",
   "id": "e50e4741",
   "metadata": {},
   "source": [
    "### Importing Libraries"
   ]
  },
  {
   "cell_type": "code",
   "execution_count": 2,
   "id": "ecf590ef",
   "metadata": {},
   "outputs": [
    {
     "name": "stdout",
     "output_type": "stream",
     "text": [
      "Tensorflow version:  2.10.0\n"
     ]
    }
   ],
   "source": [
    "import tensorflow as tf\n",
    "from tensorflow.keras.utils import to_categorical\n",
    "print(\"Tensorflow version: \", tf.__version__)"
   ]
  },
  {
   "cell_type": "code",
   "execution_count": 3,
   "id": "330fce46",
   "metadata": {},
   "outputs": [],
   "source": [
    "import numpy as np\n",
    "import pandas as pd\n",
    "import matplotlib.pyplot as plt"
   ]
  },
  {
   "cell_type": "markdown",
   "id": "0f1eaf8a",
   "metadata": {},
   "source": [
    "### Step 1 - Load the dataset"
   ]
  },
  {
   "cell_type": "code",
   "execution_count": 4,
   "id": "4b53c17c",
   "metadata": {},
   "outputs": [],
   "source": [
    "# Train and test split\n",
    "from tensorflow.keras.datasets import mnist\n",
    "(trainX, trainy), (testX, testy) = mnist.load_data()"
   ]
  },
  {
   "cell_type": "code",
   "execution_count": 5,
   "id": "01653b92",
   "metadata": {},
   "outputs": [
    {
     "data": {
      "image/png": "[encoded data removed]",
      "text/plain": [
       "<Figure size 640x480 with 9 Axes>"
      ]
     },
     "metadata": {},
     "output_type": "display_data"
    }
   ],
   "source": [
    "for i in range(9):\n",
    "    plt.subplot(330 + 1 + i)\n",
    "    plt.imshow(trainX[i])\n",
    "plt.show()"
   ]
  },
  {
   "cell_type": "code",
   "execution_count": 6,
   "id": "50f09e49",
   "metadata": {},
   "outputs": [],
   "source": [
    "# reshape the data to have a single channel\n",
    "trainX = trainX.reshape((trainX.shape[0], 28, 28, 1))\n",
    "testX = testX.reshape((testX.shape[0], 28, 28, 1))"
   ]
  },
  {
   "cell_type": "code",
   "execution_count": 7,
   "id": "53218600",
   "metadata": {},
   "outputs": [],
   "source": [
    "# one hot encoding\n",
    "# Label Encoder \n",
    "  # Red, Green, Blue\n",
    "  # Red = 0\n",
    "  # Green = 1\n",
    "  # Blue = 2\n",
    "# One Hot Encoder\n",
    "# Red Blue  Green\n",
    "# 1    0     0\n",
    "# 0    1     0\n",
    "# 1    0     0\n",
    "# 0    0     1\n",
    "# How many classes do we have ? -- 10 classes\n",
    "trainy = to_categorical(trainy)\n",
    "testy = to_categorical(testy)"
   ]
  },
  {
   "cell_type": "code",
   "execution_count": 8,
   "id": "16f3b426",
   "metadata": {},
   "outputs": [],
   "source": [
    "# normalize the values\n",
    "train_norm = trainX.astype('float32')\n",
    "test_norm = testX.astype('float32')\n",
    "trainX = train_norm / 255.0\n",
    "testX = test_norm / 255.0"
   ]
  },
  {
   "cell_type": "markdown",
   "id": "32e1d538",
   "metadata": {},
   "source": [
    "### Step 2 - Building a model"
   ]
  },
  {
   "cell_type": "code",
   "execution_count": 9,
   "id": "db00deae",
   "metadata": {},
   "outputs": [],
   "source": [
    "model = tf.keras.models.Sequential([\n",
    "    tf.keras.layers.Conv2D(\n",
    "        32, \n",
    "        (3, 3), \n",
    "        activation='relu', \n",
    "        kernel_initializer='he_uniform', \n",
    "        input_shape=(28, 28, 1)\n",
    "    ),\n",
    "    tf.keras.layers.MaxPooling2D((2, 2)),\n",
    "    tf.keras.layers.Flatten(),\n",
    "    tf.keras.layers.Dense(\n",
    "        100, \n",
    "        activation='relu', \n",
    "        kernel_initializer='he_uniform'\n",
    "    ),\n",
    "    tf.keras.layers.Dense(10, activation='softmax')\n",
    "])"
   ]
  },
  {
   "cell_type": "code",
   "execution_count": 10,
   "id": "8f007bc2",
   "metadata": {},
   "outputs": [],
   "source": [
    "opt = tf.keras.optimizers.SGD(momentum=0.9)\n",
    "model.compile(\n",
    "    optimizer=opt, \n",
    "    loss='categorical_crossentropy', \n",
    "    metrics=['accuracy']\n",
    ")"
   ]
  },
  {
   "cell_type": "code",
   "execution_count": 11,
   "id": "2c74fed3",
   "metadata": {
    "scrolled": false
   },
   "outputs": [
    {
     "name": "stdout",
     "output_type": "stream",
     "text": [
      "Epoch 1/10\n",
      "1875/1875 [==============================] - 19s 10ms/step - loss: 0.1722 - accuracy: 0.9472 - val_loss: 0.0827 - val_accuracy: 0.9738\n",
      "Epoch 2/10\n",
      "1875/1875 [==============================] - 20s 11ms/step - loss: 0.0565 - accuracy: 0.9828 - val_loss: 0.0540 - val_accuracy: 0.9835\n",
      "Epoch 3/10\n",
      "1875/1875 [==============================] - 25s 13ms/step - loss: 0.0360 - accuracy: 0.9890 - val_loss: 0.0435 - val_accuracy: 0.9858\n",
      "Epoch 4/10\n",
      "1875/1875 [==============================] - 21s 11ms/step - loss: 0.0242 - accuracy: 0.9931 - val_loss: 0.0442 - val_accuracy: 0.9870\n",
      "Epoch 5/10\n",
      "1875/1875 [==============================] - 19s 10ms/step - loss: 0.0165 - accuracy: 0.9952 - val_loss: 0.0406 - val_accuracy: 0.9870\n",
      "Epoch 6/10\n",
      "1875/1875 [==============================] - 20s 11ms/step - loss: 0.0120 - accuracy: 0.9966 - val_loss: 0.0358 - val_accuracy: 0.9885\n",
      "Epoch 7/10\n",
      "1875/1875 [==============================] - 20s 11ms/step - loss: 0.0071 - accuracy: 0.9983 - val_loss: 0.0379 - val_accuracy: 0.9882\n",
      "Epoch 8/10\n",
      "1875/1875 [==============================] - 20s 11ms/step - loss: 0.0049 - accuracy: 0.9991 - val_loss: 0.0384 - val_accuracy: 0.9883\n",
      "Epoch 9/10\n",
      "1875/1875 [==============================] - 20s 11ms/step - loss: 0.0030 - accuracy: 0.9995 - val_loss: 0.0383 - val_accuracy: 0.9885\n",
      "Epoch 10/10\n",
      "1875/1875 [==============================] - 20s 10ms/step - loss: 0.0020 - accuracy: 0.9998 - val_loss: 0.0420 - val_accuracy: 0.9883\n"
     ]
    }
   ],
   "source": [
    "h = model.fit(\n",
    "    trainX,\n",
    "    trainy,\n",
    "    epochs=10,\n",
    "    batch_size=32, \n",
    "    validation_data=(testX, testy)\n",
    ")"
   ]
  },
  {
   "cell_type": "markdown",
   "id": "bf1f1cfd",
   "metadata": {},
   "source": [
    "### Step 3 - Evaluation"
   ]
  },
  {
   "cell_type": "code",
   "execution_count": 14,
   "id": "4d90b856",
   "metadata": {},
   "outputs": [
    {
     "name": "stdout",
     "output_type": "stream",
     "text": [
      "313/313 [==============================] - 1s 3ms/step - loss: 0.0420 - accuracy: 0.9883\n",
      "Loss:  4.196110367774963\n",
      "Accuracy:  98.83000254631042\n"
     ]
    }
   ],
   "source": [
    "loss, accuracy = model.evaluate(testX, testy)\n",
    "print(\"Loss: \", loss * 100)\n",
    "print(\"Accuracy: \", accuracy * 100)"
   ]
  },
  {
   "cell_type": "code",
   "execution_count": 15,
   "id": "536e468c",
   "metadata": {},
   "outputs": [
    {
     "data": {
      "text/plain": [
       "<matplotlib.legend.Legend at 0x17cb5f2b9d0>"
      ]
     },
     "execution_count": 15,
     "metadata": {},
     "output_type": "execute_result"
    },
    {
     "data": {
      "image/png": "[encoded data removed]",
      "text/plain": [
       "<Figure size 640x480 with 1 Axes>"
      ]
     },
     "metadata": {},
     "output_type": "display_data"
    }
   ],
   "source": [
    "plt.plot(h.history['accuracy'])\n",
    "plt.title('Accuracy')\n",
    "plt.xlabel('accuracy')\n",
    "plt.ylabel('epoch')\n",
    "plt.legend(['train_accuracy'])"
   ]
  },
  {
   "cell_type": "code",
   "execution_count": 16,
   "id": "37bb8dbf",
   "metadata": {},
   "outputs": [
    {
     "name": "stdout",
     "output_type": "stream",
     "text": [
      "313/313 [==============================] - 1s 3ms/step\n"
     ]
    }
   ],
   "source": [
    "y_pred = model.predict(testX)"
   ]
  },
  {
   "cell_type": "code",
   "execution_count": 17,
   "id": "8e2c6983",
   "metadata": {},
   "outputs": [
    {
     "name": "stdout",
     "output_type": "stream",
     "text": [
      "The number is  9\n"
     ]
    },
    {
     "data": {
      "image/png": "[encoded data removed]",
      "text/plain": [
       "<Figure size 640x480 with 1 Axes>"
      ]
     },
     "metadata": {},
     "output_type": "display_data"
    }
   ],
   "source": [
    "import random\n",
    "random_index = random.randint(0, len(testy))\n",
    "\n",
    "print(\"The number is \", np.argmax(y_pred[random_index]))\n",
    "plt.imshow(testX[random_index])\n",
    "plt.show()"
   ]
  }
 ],
 "metadata": {
  "kernelspec": {
   "display_name": "Python 3 (ipykernel)",
   "language": "python",
   "name": "python3"
  },
  "language_info": {
   "codemirror_mode": {
    "name": "ipython",
    "version": 3
   },
   "file_extension": ".py",
   "mimetype": "text/x-python",
   "name": "python",
   "nbconvert_exporter": "python",
   "pygments_lexer": "ipython3",
   "version": "3.10.6"
  }
 },
 "nbformat": 4,
 "nbformat_minor": 5
}
