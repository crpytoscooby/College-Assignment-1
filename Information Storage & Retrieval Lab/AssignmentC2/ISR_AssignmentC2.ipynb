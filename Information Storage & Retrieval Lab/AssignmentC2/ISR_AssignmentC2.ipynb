{
 "cells": [
  {
   "cell_type": "markdown",
   "id": "d6c6fc75",
   "metadata": {},
   "source": [
    "# ISR Assignment C2:\n",
    "<p>Write a program to find the live weather report (temperature, wind speed, description, and weather) of a given city.</p>"
   ]
  },
  {
   "cell_type": "code",
   "execution_count": 4,
   "id": "0d2a5ee0",
   "metadata": {},
   "outputs": [],
   "source": [
    "#Importing Libraries\n",
    "from bs4 import BeautifulSoup\n",
    "import requests"
   ]
  },
  {
   "cell_type": "code",
   "execution_count": 5,
   "id": "ac37e753",
   "metadata": {},
   "outputs": [],
   "source": [
    "#Web Scrapping to get live weather data\n",
    "headers = {\n",
    "    'User-Agent': 'Mozilla/5.0 (Windows NT 10.0; Win64; x64) AppleWebKit/537.36 (KHTML, like Gecko) Chrome/58.0.3029.110 Safari/537.3'}\n",
    "\n",
    "def weather(city):\n",
    "    print(\"Searching...\\n\")\n",
    "    city = city.replace(\" \", \"+\")\n",
    "    res = requests.get(\n",
    "        f'https://www.google.com/search?q={city}&oq={city}&aqs=chrome.0.35i39l2j0l4j46j69i60.6128j1j7&sourceid=chrome&ie=UTF-8', headers=headers)\n",
    "    soup = BeautifulSoup(res.text, 'html.parser')\n",
    "    location = soup.select('#wob_loc')[0].getText().strip()\n",
    "    time = soup.select('#wob_dts')[0].getText().strip()\n",
    "    info = soup.select('#wob_dc')[0].getText().strip()\n",
    "    temp = soup.select('#wob_tm')[0].getText().strip()\n",
    "    precipitation = soup.select('#wob_pp')[0].getText().strip()\n",
    "    humidity = soup.select('#wob_hm')[0].getText().strip()\n",
    "    wind_speed = soup.select('#wob_ws')[0].getText().strip()\n",
    "    print(\"Location: \"+ location)\n",
    "    print(\"Time: \"+ time)\n",
    "    print(\"Description: \"+ info)\n",
    "    print(\"Temperature: \"+ temp+\"°C\")\n",
    "    print(\"Precipitation: \"+ precipitation)\n",
    "    print(\"Humidity: \"+ humidity)\n",
    "    print(\"Wind Speed: \"+ wind_speed)"
   ]
  },
  {
   "cell_type": "code",
   "execution_count": 7,
   "id": "21dcbdc3",
   "metadata": {},
   "outputs": [
    {
     "name": "stdout",
     "output_type": "stream",
     "text": [
      "Enter the Name of City:  Pimple Saudagar\n",
      "Searching...\n",
      "\n",
      "Location: Pimple Saudagar, Pimpri-Chinchwad, Maharashtra\n",
      "Time: Friday, 3:00 pm\n",
      "Description: Mostly sunny\n",
      "Temperature: 31°C\n",
      "Precipitation: 0%\n",
      "Humidity: 32%\n",
      "Wind Speed: 3 km/h\n"
     ]
    }
   ],
   "source": [
    "#Printing weather details of a city\n",
    "city = input(\"Enter the Name of City:  \")\n",
    "city = city+\" weather\"\n",
    "weather(city)"
   ]
  },
  {
   "cell_type": "code",
   "execution_count": null,
   "id": "97e078b4",
   "metadata": {},
   "outputs": [],
   "source": []
  }
 ],
 "metadata": {
  "kernelspec": {
   "display_name": "Python 3 (ipykernel)",
   "language": "python",
   "name": "python3"
  },
  "language_info": {
   "codemirror_mode": {
    "name": "ipython",
    "version": 3
   },
   "file_extension": ".py",
   "mimetype": "text/x-python",
   "name": "python",
   "nbconvert_exporter": "python",
   "pygments_lexer": "ipython3",
   "version": "3.10.6"
  }
 },
 "nbformat": 4,
 "nbformat_minor": 5
}
