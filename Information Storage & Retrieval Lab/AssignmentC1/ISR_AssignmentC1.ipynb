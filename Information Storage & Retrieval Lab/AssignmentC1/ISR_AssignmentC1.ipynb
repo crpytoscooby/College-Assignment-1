{
 "cells": [
  {
   "cell_type": "markdown",
   "id": "39276005",
   "metadata": {},
   "source": [
    "# ISR Assignment C1:\n",
    "<p>Build the web crawler to pull product information and links from an e-commerce website.</p>"
   ]
  },
  {
   "cell_type": "code",
   "execution_count": 1,
   "id": "b450ad5a",
   "metadata": {},
   "outputs": [
    {
     "name": "stdout",
     "output_type": "stream",
     "text": [
      "Requirement already satisfied: beautifulsoup4 in c:\\users\\denzil\\appdata\\local\\programs\\python\\python310\\lib\\site-packages (4.11.1)\n",
      "Requirement already satisfied: soupsieve>1.2 in c:\\users\\denzil\\appdata\\local\\programs\\python\\python310\\lib\\site-packages (from beautifulsoup4) (2.3.2.post1)\n",
      "Requirement already satisfied: requests in c:\\users\\denzil\\appdata\\local\\programs\\python\\python310\\lib\\site-packages (2.28.1)\n",
      "Requirement already satisfied: urllib3<1.27,>=1.21.1 in c:\\users\\denzil\\appdata\\local\\programs\\python\\python310\\lib\\site-packages (from requests) (1.26.12)\n",
      "Requirement already satisfied: charset-normalizer<3,>=2 in c:\\users\\denzil\\appdata\\local\\programs\\python\\python310\\lib\\site-packages (from requests) (2.1.1)\n",
      "Requirement already satisfied: idna<4,>=2.5 in c:\\users\\denzil\\appdata\\local\\programs\\python\\python310\\lib\\site-packages (from requests) (3.4)\n",
      "Requirement already satisfied: certifi>=2017.4.17 in c:\\users\\denzil\\appdata\\local\\programs\\python\\python310\\lib\\site-packages (from requests) (2022.9.24)\n"
     ]
    }
   ],
   "source": [
    "!pip install beautifulsoup4 \n",
    "!pip install requests"
   ]
  },
  {
   "cell_type": "code",
   "execution_count": 2,
   "id": "2f99ef6a",
   "metadata": {},
   "outputs": [],
   "source": [
    "#Importing required Libraries\n",
    "import requests\n",
    "from bs4 import BeautifulSoup\n",
    "import pandas as pd"
   ]
  },
  {
   "cell_type": "code",
   "execution_count": 3,
   "id": "1caad80c",
   "metadata": {},
   "outputs": [],
   "source": [
    "#Set a start URL\n",
    "start_url = \"https://www.flipkart.com/search?q=pixel&otracker=search&otracker1=search&marketplace=FLIPKART&as-show=on&as=off\""
   ]
  },
  {
   "cell_type": "code",
   "execution_count": 4,
   "id": "7032a781",
   "metadata": {},
   "outputs": [],
   "source": [
    "#Go to the start URL, fetch its content, and identify the product links\n",
    "web_page = requests.get(start_url)\n",
    "soup = BeautifulSoup(web_page.content, 'html.parser')"
   ]
  },
  {
   "cell_type": "code",
   "execution_count": 5,
   "id": "4f41311c",
   "metadata": {},
   "outputs": [],
   "source": [
    "#Find the Product Links\n",
    "product_links = []\n",
    "for link in soup.find_all('a', class_='_1fQZEK'):\n",
    "    if link['href'] not in product_links:\n",
    "        product_links.append('https://www.flipkart.com' + link['href'])"
   ]
  },
  {
   "cell_type": "code",
   "execution_count": 6,
   "id": "eaf0c6a3",
   "metadata": {},
   "outputs": [],
   "source": [
    "#To iterate over each product URL in the list product_links and parse them.\n",
    "data=[]\n",
    "for product_url in product_links:\n",
    "    product_page = requests.get(product_url)\n",
    "    product_soup = BeautifulSoup(product_page.content, 'html.parser')\n",
    "    \n",
    "    product_name = product_soup.find('span', class_='B_NuCI').text.strip()\n",
    "    price = product_soup.find('div', class_='_30jeq3 _16Jk6d').text.strip()\n",
    "    item = {\"Product Name\": product_name, \"Price\": price, \"Product Url\": product_url}\n",
    "\n",
    "    data.append(item)"
   ]
  },
  {
   "cell_type": "code",
   "execution_count": 7,
   "id": "b1543ee7",
   "metadata": {},
   "outputs": [
    {
     "name": "stdout",
     "output_type": "stream",
     "text": [
      "                                         Product Name    Price  \\\n",
      "0           Google Pixel 7 (Snow, 128 GB)  (8 GB RAM)  ₹59,999   \n",
      "1       Google Pixel 7 (Obsidian, 128 GB)  (8 GB RAM)  ₹59,999   \n",
      "2      Google Pixel 7 Pro (Snow, 128 GB)  (12 GB RAM)  ₹84,999   \n",
      "3         Google Pixel 6a (Chalk, 128 GB)  (6 GB RAM)  ₹34,999   \n",
      "4      Google Pixel 6a (Charcoal, 128 GB)  (6 GB RAM)  ₹34,999   \n",
      "5    Google Pixel 4a (Just Black, 128 GB)  (6 GB RAM)  ₹31,999   \n",
      "6   Google Pixel 3a (Clearly White, 64 GB)  (4 GB ...  ₹39,749   \n",
      "7        vivo T1 44W (Starry Sky, 128 GB)  (4 GB RAM)  ₹14,499   \n",
      "8          vivo T1 44W (Ice Dawn, 128 GB)  (4 GB RAM)  ₹14,499   \n",
      "9   vivo T1 44W (Midnight Galaxy, 128 GB)  (4 GB RAM)  ₹14,499   \n",
      "10       vivo T1 44W (Starry Sky, 128 GB)  (6 GB RAM)  ₹15,999   \n",
      "11      REDMI 10A (Charcoal Black, 32 GB)  (3 GB RAM)   ₹7,595   \n",
      "12  vivo T1 44W (Midnight Galaxy, 128 GB)  (6 GB RAM)  ₹15,999   \n",
      "13         realme C33 (Sandy Gold, 32 GB)  (3 GB RAM)   ₹8,999   \n",
      "14                                  GFive K2  (Black)     ₹749   \n",
      "15          realme C30 (Lake Blue, 32 GB)  (2 GB RAM)   ₹6,999   \n",
      "16  Redmi 9A Sport (Metallic Blue, 32 GB)  (3 GB RAM)   ₹8,199   \n",
      "17        realme C30 (Denim Black, 32 GB)  (2 GB RAM)   ₹6,999   \n",
      "18         realme C33 (Sandy Gold, 64 GB)  (4 GB RAM)   ₹9,999   \n",
      "19         vivo T1 44W (Ice Dawn, 128 GB)  (6 GB RAM)  ₹15,999   \n",
      "20  REDMI Note 11T 5G (Stardust White, 128 GB)  (6...  ₹17,499   \n",
      "21  REDMI Note 11T 5G (Aquamarine Blue, 128 GB)  (...  ₹18,480   \n",
      "22        realme C30 (Denim Black, 32 GB)  (3 GB RAM)   ₹7,999   \n",
      "23          realme C30 (Lake Blue, 32 GB)  (3 GB RAM)   ₹7,999   \n",
      "\n",
      "                                          Product Url  \n",
      "0   https://www.flipkart.com/google-pixel-7-snow-1...  \n",
      "1   https://www.flipkart.com/google-pixel-7-obsidi...  \n",
      "2   https://www.flipkart.com/google-pixel-7-pro-sn...  \n",
      "3   https://www.flipkart.com/google-pixel-6a-chalk...  \n",
      "4   https://www.flipkart.com/google-pixel-6a-charc...  \n",
      "5   https://www.flipkart.com/google-pixel-4a-just-...  \n",
      "6   https://www.flipkart.com/google-pixel-3a-clear...  \n",
      "7   https://www.flipkart.com/vivo-t1-44w-starry-sk...  \n",
      "8   https://www.flipkart.com/vivo-t1-44w-ice-dawn-...  \n",
      "9   https://www.flipkart.com/vivo-t1-44w-midnight-...  \n",
      "10  https://www.flipkart.com/vivo-t1-44w-starry-sk...  \n",
      "11  https://www.flipkart.com/redmi-10a-charcoal-bl...  \n",
      "12  https://www.flipkart.com/vivo-t1-44w-midnight-...  \n",
      "13  https://www.flipkart.com/realme-c33-sandy-gold...  \n",
      "14  https://www.flipkart.com/gfive-k2/p/itm03521b2...  \n",
      "15  https://www.flipkart.com/realme-c30-lake-blue-...  \n",
      "16  https://www.flipkart.com/redmi-9a-sport-metall...  \n",
      "17  https://www.flipkart.com/realme-c30-denim-blac...  \n",
      "18  https://www.flipkart.com/realme-c33-sandy-gold...  \n",
      "19  https://www.flipkart.com/vivo-t1-44w-ice-dawn-...  \n",
      "20  https://www.flipkart.com/redmi-note-11t-5g-sta...  \n",
      "21  https://www.flipkart.com/redmi-note-11t-5g-aqu...  \n",
      "22  https://www.flipkart.com/realme-c30-denim-blac...  \n",
      "23  https://www.flipkart.com/realme-c30-lake-blue-...  \n"
     ]
    }
   ],
   "source": [
    "#Displaying product information with links\n",
    "df = pd.DataFrame(data)\n",
    "print(df)"
   ]
  },
  {
   "cell_type": "code",
   "execution_count": null,
   "id": "58c14241",
   "metadata": {},
   "outputs": [],
   "source": []
  }
 ],
 "metadata": {
  "kernelspec": {
   "display_name": "Python 3 (ipykernel)",
   "language": "python",
   "name": "python3"
  },
  "language_info": {
   "codemirror_mode": {
    "name": "ipython",
    "version": 3
   },
   "file_extension": ".py",
   "mimetype": "text/x-python",
   "name": "python",
   "nbconvert_exporter": "python",
   "pygments_lexer": "ipython3",
   "version": "3.10.6"
  }
 },
 "nbformat": 4,
 "nbformat_minor": 5
}
