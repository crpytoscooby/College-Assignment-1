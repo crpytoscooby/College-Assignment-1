{
 "cells": [
  {
   "cell_type": "code",
   "execution_count": 32,
   "id": "60e0c93d",
   "metadata": {},
   "outputs": [],
   "source": [
    "\n",
    "#ISR Assignment 1C:  Build the web crawler to pull product information and links from an e-commerce website."
   ]
  },
  {
   "cell_type": "code",
   "execution_count": 33,
   "id": "b450ad5a",
   "metadata": {},
   "outputs": [
    {
     "name": "stdout",
     "output_type": "stream",
     "text": [
      "Requirement already satisfied: beautifulsoup4 in c:\\users\\dell\\anaconda3\\lib\\site-packages (4.11.1)\n",
      "Requirement already satisfied: soupsieve>1.2 in c:\\users\\dell\\anaconda3\\lib\\site-packages (from beautifulsoup4) (2.3.1)\n",
      "Requirement already satisfied: requests in c:\\users\\dell\\anaconda3\\lib\\site-packages (2.27.1)\n",
      "Requirement already satisfied: idna<4,>=2.5 in c:\\users\\dell\\anaconda3\\lib\\site-packages (from requests) (3.3)\n",
      "Requirement already satisfied: certifi>=2017.4.17 in c:\\users\\dell\\anaconda3\\lib\\site-packages (from requests) (2021.10.8)\n",
      "Requirement already satisfied: urllib3<1.27,>=1.21.1 in c:\\users\\dell\\anaconda3\\lib\\site-packages (from requests) (1.26.9)\n",
      "Requirement already satisfied: charset-normalizer~=2.0.0 in c:\\users\\dell\\anaconda3\\lib\\site-packages (from requests) (2.0.4)\n"
     ]
    }
   ],
   "source": [
    "!pip install beautifulsoup4 \n",
    "!pip install requests"
   ]
  },
  {
   "cell_type": "code",
   "execution_count": 34,
   "id": "2f99ef6a",
   "metadata": {},
   "outputs": [],
   "source": [
    "#Importing required Libraries\n",
    "import requests\n",
    "from bs4 import BeautifulSoup\n",
    "import pandas as pd"
   ]
  },
  {
   "cell_type": "code",
   "execution_count": 35,
   "id": "1caad80c",
   "metadata": {},
   "outputs": [],
   "source": [
    "#Set a start URL\n",
    "start_url = \"https://in.puma.com/in/en/collections/collections-football/collections-football-manchester-city-fc\""
   ]
  },
  {
   "cell_type": "code",
   "execution_count": 36,
   "id": "7032a781",
   "metadata": {},
   "outputs": [],
   "source": [
    "#Go to the start URL, fetch its content, and identify the product links\n",
    "web_page = requests.get(start_url)\n",
    "soup = BeautifulSoup(web_page.content, 'html.parser')"
   ]
  },
  {
   "cell_type": "code",
   "execution_count": 37,
   "id": "4f41311c",
   "metadata": {},
   "outputs": [],
   "source": [
    "#Find the Product Links\n",
    "product_links = []\n",
    "for link in soup.find_all('a', class_='product-tile-title product-tile__title pdp-link line-item-limited line-item-limited--2'):\n",
    "    if link['href'] not in product_links:\n",
    "        product_links.append('https://in.puma.com/' + link['href'])"
   ]
  },
  {
   "cell_type": "code",
   "execution_count": 38,
   "id": "eaf0c6a3",
   "metadata": {},
   "outputs": [],
   "source": [
    "#To iterate over each product URL in the list product_links and parse them.\n",
    "data=[]\n",
    "for product_url in product_links:\n",
    "    product_page = requests.get(product_url)\n",
    "    product_soup = BeautifulSoup(product_page.content, 'html.parser')\n",
    "    \n",
    "    product_name = product_soup.find('h1', class_='product-name').text.strip()\n",
    "    price = product_soup.find('span', class_='value').text.strip()\n",
    "    product_description = product_soup.find('div', class_='content', itemprop=\"description\").text.strip()\n",
    "    shoes = {\"Product Name\":product_name,\"Price\":price,\"Product Description\":product_description,\"Product Url\":product_url}\n",
    "\n",
    "    data.append(shoes)"
   ]
  },
  {
   "cell_type": "code",
   "execution_count": 39,
   "id": "b1543ee7",
   "metadata": {},
   "outputs": [
    {
     "name": "stdout",
     "output_type": "stream",
     "text": [
      "                                         Product Name   Price  \\\n",
      "0        Manchester City FC Home Replica Men's Jersey  ₹5,499   \n",
      "1            Manchester City FC  Men's Shorts Replica  ₹2,999   \n",
      "2            Manchester City FC  Men's Shorts Replica  ₹2,999   \n",
      "3            Manchester City FC  Men's Shorts Replica  ₹2,999   \n",
      "4            Manchester City FC  Men's Shorts Replica  ₹2,999   \n",
      "5            Manchester City FC  Men's Shorts Replica  ₹2,999   \n",
      "6           Manchester City FC  Home Jersey Replica W  ₹5,499   \n",
      "7   Manchester City F.C. Football Training Men's J...  ₹3,499   \n",
      "8   Manchester City F.C. Football Quarter-zip Trai...  ₹4,999   \n",
      "9   Manchester City F.C. Football Quarter-zip Trai...  ₹4,999   \n",
      "10  Manchester City F.C. Football Quarter-zip Trai...  ₹4,999   \n",
      "11  Manchester City F.C. ftblCulture Men's Sweatpants  ₹4,999   \n",
      "12          Manchester City FC  FtblCore Men's Hoodie  ₹4,999   \n",
      "13            Manchester City FC  FtblCore Men's Crew  ₹3,999   \n",
      "14  Manchester City F.C. ftblCulture Track Jacket Men  ₹5,999   \n",
      "15                        MCFC FtblCore Men's T-Shirt  ₹1,999   \n",
      "16  Manchester City F.C. Football Training Shorts Men  ₹3,499   \n",
      "17  Manchester City F.C. Football Training Men's J...  ₹3,499   \n",
      "18  Manchester City F.C. ftblCulture Men's Sweatpants  ₹4,999   \n",
      "19  Manchester City F.C. Away 22/23 Replica Men's ...  ₹5,499   \n",
      "20  Manchester City F.C. Football Training Men's J...  ₹3,499   \n",
      "21  Manchester City F.C. Away 22/23 Replica Jersey...  ₹5,499   \n",
      "22  Manchester City F.C. Football Training Men's P...  ₹4,999   \n",
      "23  Manchester City F.C. Football Training Men's P...  ₹4,999   \n",
      "24    Manchester City F.C. 22/23 Replica Shorts Youth  ₹1,999   \n",
      "25    Manchester City F.C. 22/23 Replica Shorts Youth  ₹1,999   \n",
      "26     Manchester City FC  Home Replica  Youth Jersey  ₹4,499   \n",
      "27            Manchester City FC  FtblCore Men's Crew  ₹3,999   \n",
      "28          Manchester City FC  FtblCore Men's Hoodie  ₹4,999   \n",
      "29                        MCFC FtblCulture Men's Crew  ₹4,999   \n",
      "30                     MCFC FtblCulture Men's T-Shirt  ₹2,999   \n",
      "31                     MCFC FtblCulture Men's T-Shirt  ₹2,999   \n",
      "32                        MCFC FtblCore Men's T-Shirt  ₹1,999   \n",
      "33  Manchester City FtblLegacy Men's Football  T-s...  ₹1,889   \n",
      "34          Manchester City 3rd Men's Replica T-Shirt  ₹2,849   \n",
      "35          Manchester City Home Replica Kid's Jersey  ₹2,469   \n",
      "\n",
      "                                  Product Description  \\\n",
      "0   PRODUCT STORY From 1967 to 1971, no team could...   \n",
      "1   PRODUCT STORY Show up to the Etihad looking, a...   \n",
      "2   PRODUCT STORY Show up to the Etihad looking, a...   \n",
      "3   PRODUCT STORY Show up to the Etihad looking, a...   \n",
      "4   PRODUCT STORY Show up to the Etihad looking, a...   \n",
      "5   PRODUCT STORY Show up to the Etihad looking, a...   \n",
      "6   PRODUCT STORY From 1967 to 1971, no team could...   \n",
      "7   PRODUCT STORY Cityzens, light up the pitch jus...   \n",
      "8   PRODUCT STORY Cityzens, take the practice pitc...   \n",
      "9   PRODUCT STORY Cityzens, take the practice pitc...   \n",
      "10  PRODUCT STORY Cityzens, take the practice pitc...   \n",
      "11  PRODUCT STORY On match day, be comfortable and...   \n",
      "12  PRODUCT STORY For the fans who love Manchester...   \n",
      "13  PRODUCT STORY For the fans who love Manchester...   \n",
      "14  PRODUCT STORY Show your support for Manchester...   \n",
      "15  PRODUCT STORY For the fans who love Manchester...   \n",
      "16  PRODUCT STORY Cityzens, light up the pitch jus...   \n",
      "17  PRODUCT STORY Cityzens, light up the pitch jus...   \n",
      "18  PRODUCT STORY On match day, be comfortable and...   \n",
      "19  PRODUCT STORYCity put on a show. When the clas...   \n",
      "20  PRODUCT STORY Cityzens, light up the pitch jus...   \n",
      "21  PRODUCT STORY City put on a show. When the cla...   \n",
      "22  PRODUCT STORY Cityzens, light up the pitch jus...   \n",
      "23  PRODUCT STORY Cityzens, light up the pitch jus...   \n",
      "24  PRODUCT STORY Show up to the Etihad looking, a...   \n",
      "25  PRODUCT STORY Show up to the Etihad looking, a...   \n",
      "26  PRODUCT STORY From 1967 to 1971, no team could...   \n",
      "27  PRODUCT STORY For the fans who love Manchester...   \n",
      "28  PRODUCT STORY For the fans who love Manchester...   \n",
      "29  PRODUCT STORY Support your team in the Etihad ...   \n",
      "30  PRODUCT STORY Celebrate diversity in football ...   \n",
      "31  PRODUCT STORY Celebrate diversity in football ...   \n",
      "32  PRODUCT STORY For the fans who love Manchester...   \n",
      "33  PRODUCT STORY Step out in fresh fan attire wit...   \n",
      "34  PRODUCT STORY Kit yourself out with pitch-perf...   \n",
      "35  PRODUCT STORY Show off your support for Manche...   \n",
      "\n",
      "                                          Product Url  \n",
      "0   https://in.puma.com//in/en/pd/manchester-city-...  \n",
      "1   https://in.puma.com//in/en/pd/manchester-city-...  \n",
      "2   https://in.puma.com//in/en/pd/manchester-city-...  \n",
      "3   https://in.puma.com//in/en/pd/manchester-city-...  \n",
      "4   https://in.puma.com//in/en/pd/manchester-city-...  \n",
      "5   https://in.puma.com//in/en/pd/manchester-city-...  \n",
      "6   https://in.puma.com//in/en/pd/manchester-city-...  \n",
      "7   https://in.puma.com//in/en/pd/manchester-city-...  \n",
      "8   https://in.puma.com//in/en/pd/manchester-city-...  \n",
      "9   https://in.puma.com//in/en/pd/manchester-city-...  \n",
      "10  https://in.puma.com//in/en/pd/manchester-city-...  \n",
      "11  https://in.puma.com//in/en/pd/manchester-city-...  \n",
      "12  https://in.puma.com//in/en/pd/manchester-city-...  \n",
      "13  https://in.puma.com//in/en/pd/manchester-city-...  \n",
      "14  https://in.puma.com//in/en/pd/manchester-city-...  \n",
      "15  https://in.puma.com//in/en/pd/mcfc-ftblcore-me...  \n",
      "16  https://in.puma.com//in/en/pd/manchester-city-...  \n",
      "17  https://in.puma.com//in/en/pd/manchester-city-...  \n",
      "18  https://in.puma.com//in/en/pd/manchester-city-...  \n",
      "19  https://in.puma.com//in/en/pd/manchester-city-...  \n",
      "20  https://in.puma.com//in/en/pd/manchester-city-...  \n",
      "21  https://in.puma.com//in/en/pd/manchester-city-...  \n",
      "22  https://in.puma.com//in/en/pd/manchester-city-...  \n",
      "23  https://in.puma.com//in/en/pd/manchester-city-...  \n",
      "24  https://in.puma.com//in/en/pd/manchester-city-...  \n",
      "25  https://in.puma.com//in/en/pd/manchester-city-...  \n",
      "26  https://in.puma.com//in/en/pd/manchester-city-...  \n",
      "27  https://in.puma.com//in/en/pd/manchester-city-...  \n",
      "28  https://in.puma.com//in/en/pd/manchester-city-...  \n",
      "29  https://in.puma.com//in/en/pd/mcfc-ftblculture...  \n",
      "30  https://in.puma.com//in/en/pd/mcfc-ftblculture...  \n",
      "31  https://in.puma.com//in/en/pd/mcfc-ftblculture...  \n",
      "32  https://in.puma.com//in/en/pd/mcfc-ftblcore-me...  \n",
      "33  https://in.puma.com//in/en/pd/manchester-city-...  \n",
      "34  https://in.puma.com//in/en/pd/manchester-city-...  \n",
      "35  https://in.puma.com//in/en/pd/manchester-city-...  \n"
     ]
    }
   ],
   "source": [
    "#Displaying product information with links\n",
    "df = pd.DataFrame(data)\n",
    "print(df)"
   ]
  },
  {
   "cell_type": "code",
   "execution_count": null,
   "id": "58c14241",
   "metadata": {},
   "outputs": [],
   "source": []
  }
 ],
 "metadata": {
  "kernelspec": {
   "display_name": "Python 3 (ipykernel)",
   "language": "python",
   "name": "python3"
  },
  "language_info": {
   "codemirror_mode": {
    "name": "ipython",
    "version": 3
   },
   "file_extension": ".py",
   "mimetype": "text/x-python",
   "name": "python",
   "nbconvert_exporter": "python",
   "pygments_lexer": "ipython3",
   "version": "3.9.12"
  }
 },
 "nbformat": 4,
 "nbformat_minor": 5
}
